{
  "nbformat": 4,
  "nbformat_minor": 0,
  "metadata": {
    "colab": {
      "name": "model preparation.ipynb",
      "provenance": [],
      "collapsed_sections": []
    },
    "kernelspec": {
      "display_name": "Python 3",
      "name": "python3"
    },
    "language_info": {
      "name": "python"
    }
  },
  "cells": [
    {
      "cell_type": "code",
      "metadata": {
        "id": "9n3GCA6zFHiy"
      },
      "source": [
        "import pandas as pd\n",
        "import numpy as np\n",
        "import matplotlib.pyplot as plt\n",
        "import warnings\n",
        "warnings.filterwarnings('ignore')\n",
        "import seaborn as sns\n",
        "import sklearn\n",
        "import logging"
      ],
      "execution_count": 1,
      "outputs": []
    },
    {
      "cell_type": "code",
      "metadata": {
        "id": "6vWUMzq0Piwi"
      },
      "source": [
        "np.set_printoptions(suppress=True)"
      ],
      "execution_count": 2,
      "outputs": []
    },
    {
      "cell_type": "code",
      "metadata": {
        "id": "58wO3U3OFsC2"
      },
      "source": [
        "train=pd.read_csv('/content/drive/MyDrive/train_s3TEQDk.csv')\n",
        "test=pd.read_csv('/content/drive/MyDrive/test_mSzZ8RL.csv')"
      ],
      "execution_count": 3,
      "outputs": []
    },
    {
      "cell_type": "code",
      "metadata": {
        "colab": {
          "base_uri": "https://localhost:8080/",
          "height": 202
        },
        "id": "2QuKaYLrFsF-",
        "outputId": "9cc125fa-3985-4e5c-aab2-63d54233b707"
      },
      "source": [
        "train.head()"
      ],
      "execution_count": 5,
      "outputs": [
        {
          "output_type": "execute_result",
          "data": {
            "text/html": [
              "<div>\n",
              "<style scoped>\n",
              "    .dataframe tbody tr th:only-of-type {\n",
              "        vertical-align: middle;\n",
              "    }\n",
              "\n",
              "    .dataframe tbody tr th {\n",
              "        vertical-align: top;\n",
              "    }\n",
              "\n",
              "    .dataframe thead th {\n",
              "        text-align: right;\n",
              "    }\n",
              "</style>\n",
              "<table border=\"1\" class=\"dataframe\">\n",
              "  <thead>\n",
              "    <tr style=\"text-align: right;\">\n",
              "      <th></th>\n",
              "      <th>ID</th>\n",
              "      <th>Gender</th>\n",
              "      <th>Age</th>\n",
              "      <th>Region_Code</th>\n",
              "      <th>Occupation</th>\n",
              "      <th>Channel_Code</th>\n",
              "      <th>Vintage</th>\n",
              "      <th>Credit_Product</th>\n",
              "      <th>Avg_Account_Balance</th>\n",
              "      <th>Is_Active</th>\n",
              "      <th>Is_Lead</th>\n",
              "    </tr>\n",
              "  </thead>\n",
              "  <tbody>\n",
              "    <tr>\n",
              "      <th>0</th>\n",
              "      <td>NNVBBKZB</td>\n",
              "      <td>Female</td>\n",
              "      <td>73</td>\n",
              "      <td>RG268</td>\n",
              "      <td>Other</td>\n",
              "      <td>X3</td>\n",
              "      <td>43</td>\n",
              "      <td>No</td>\n",
              "      <td>1045696</td>\n",
              "      <td>No</td>\n",
              "      <td>0</td>\n",
              "    </tr>\n",
              "    <tr>\n",
              "      <th>1</th>\n",
              "      <td>IDD62UNG</td>\n",
              "      <td>Female</td>\n",
              "      <td>30</td>\n",
              "      <td>RG277</td>\n",
              "      <td>Salaried</td>\n",
              "      <td>X1</td>\n",
              "      <td>32</td>\n",
              "      <td>No</td>\n",
              "      <td>581988</td>\n",
              "      <td>No</td>\n",
              "      <td>0</td>\n",
              "    </tr>\n",
              "    <tr>\n",
              "      <th>2</th>\n",
              "      <td>HD3DSEMC</td>\n",
              "      <td>Female</td>\n",
              "      <td>56</td>\n",
              "      <td>RG268</td>\n",
              "      <td>Self_Employed</td>\n",
              "      <td>X3</td>\n",
              "      <td>26</td>\n",
              "      <td>No</td>\n",
              "      <td>1484315</td>\n",
              "      <td>Yes</td>\n",
              "      <td>0</td>\n",
              "    </tr>\n",
              "    <tr>\n",
              "      <th>3</th>\n",
              "      <td>BF3NC7KV</td>\n",
              "      <td>Male</td>\n",
              "      <td>34</td>\n",
              "      <td>RG270</td>\n",
              "      <td>Salaried</td>\n",
              "      <td>X1</td>\n",
              "      <td>19</td>\n",
              "      <td>No</td>\n",
              "      <td>470454</td>\n",
              "      <td>No</td>\n",
              "      <td>0</td>\n",
              "    </tr>\n",
              "    <tr>\n",
              "      <th>4</th>\n",
              "      <td>TEASRWXV</td>\n",
              "      <td>Female</td>\n",
              "      <td>30</td>\n",
              "      <td>RG282</td>\n",
              "      <td>Salaried</td>\n",
              "      <td>X1</td>\n",
              "      <td>33</td>\n",
              "      <td>No</td>\n",
              "      <td>886787</td>\n",
              "      <td>No</td>\n",
              "      <td>0</td>\n",
              "    </tr>\n",
              "  </tbody>\n",
              "</table>\n",
              "</div>"
            ],
            "text/plain": [
              "         ID  Gender  Age  ... Avg_Account_Balance Is_Active Is_Lead\n",
              "0  NNVBBKZB  Female   73  ...             1045696        No       0\n",
              "1  IDD62UNG  Female   30  ...              581988        No       0\n",
              "2  HD3DSEMC  Female   56  ...             1484315       Yes       0\n",
              "3  BF3NC7KV    Male   34  ...              470454        No       0\n",
              "4  TEASRWXV  Female   30  ...              886787        No       0\n",
              "\n",
              "[5 rows x 11 columns]"
            ]
          },
          "metadata": {
            "tags": []
          },
          "execution_count": 5
        }
      ]
    },
    {
      "cell_type": "code",
      "metadata": {
        "colab": {
          "base_uri": "https://localhost:8080/"
        },
        "id": "4yHuso42FsJQ",
        "outputId": "bffbee6f-32e2-48b4-ce36-e743f78a171e"
      },
      "source": [
        "train.isnull().sum()"
      ],
      "execution_count": 6,
      "outputs": [
        {
          "output_type": "execute_result",
          "data": {
            "text/plain": [
              "ID                         0\n",
              "Gender                     0\n",
              "Age                        0\n",
              "Region_Code                0\n",
              "Occupation                 0\n",
              "Channel_Code               0\n",
              "Vintage                    0\n",
              "Credit_Product         29325\n",
              "Avg_Account_Balance        0\n",
              "Is_Active                  0\n",
              "Is_Lead                    0\n",
              "dtype: int64"
            ]
          },
          "metadata": {
            "tags": []
          },
          "execution_count": 6
        }
      ]
    },
    {
      "cell_type": "code",
      "metadata": {
        "colab": {
          "base_uri": "https://localhost:8080/"
        },
        "id": "ve5B3DPuFsMe",
        "outputId": "4179de07-efbe-41da-9732-aab588beaf71"
      },
      "source": [
        "test.isnull().sum()"
      ],
      "execution_count": 7,
      "outputs": [
        {
          "output_type": "execute_result",
          "data": {
            "text/plain": [
              "ID                         0\n",
              "Gender                     0\n",
              "Age                        0\n",
              "Region_Code                0\n",
              "Occupation                 0\n",
              "Channel_Code               0\n",
              "Vintage                    0\n",
              "Credit_Product         12522\n",
              "Avg_Account_Balance        0\n",
              "Is_Active                  0\n",
              "dtype: int64"
            ]
          },
          "metadata": {
            "tags": []
          },
          "execution_count": 7
        }
      ]
    },
    {
      "cell_type": "code",
      "metadata": {
        "colab": {
          "base_uri": "https://localhost:8080/"
        },
        "id": "Zh6kIanTFsPx",
        "outputId": "4866af9a-3f29-43cd-a7b2-9060fedc36a5"
      },
      "source": [
        "train.shape , test.shape"
      ],
      "execution_count": 8,
      "outputs": [
        {
          "output_type": "execute_result",
          "data": {
            "text/plain": [
              "((245725, 11), (105312, 10))"
            ]
          },
          "metadata": {
            "tags": []
          },
          "execution_count": 8
        }
      ]
    },
    {
      "cell_type": "code",
      "metadata": {
        "colab": {
          "base_uri": "https://localhost:8080/",
          "height": 280
        },
        "id": "glgAxufWFsTO",
        "outputId": "3dfac359-9a92-4fb6-f2a5-50e44c08cf61"
      },
      "source": [
        "train['Is_Lead'].value_counts().plot(kind='bar')\n"
      ],
      "execution_count": 9,
      "outputs": [
        {
          "output_type": "execute_result",
          "data": {
            "text/plain": [
              "<matplotlib.axes._subplots.AxesSubplot at 0x7fd427d491d0>"
            ]
          },
          "metadata": {
            "tags": []
          },
          "execution_count": 9
        },
        {
          "output_type": "display_data",
          "data": {
            "image/png": "[encoded data removed]",
            "text/plain": [
              "<Figure size 432x288 with 1 Axes>"
            ]
          },
          "metadata": {
            "tags": [],
            "needs_background": "light"
          }
        }
      ]
    },
    {
      "cell_type": "code",
      "metadata": {
        "colab": {
          "base_uri": "https://localhost:8080/"
        },
        "id": "MReLo91ZFsWm",
        "outputId": "a05050c2-f512-412b-8219-41c20b00f860"
      },
      "source": [
        "(train.isnull().sum()/train.shape[0])*100"
      ],
      "execution_count": 10,
      "outputs": [
        {
          "output_type": "execute_result",
          "data": {
            "text/plain": [
              "ID                      0.000000\n",
              "Gender                  0.000000\n",
              "Age                     0.000000\n",
              "Region_Code             0.000000\n",
              "Occupation              0.000000\n",
              "Channel_Code            0.000000\n",
              "Vintage                 0.000000\n",
              "Credit_Product         11.934073\n",
              "Avg_Account_Balance     0.000000\n",
              "Is_Active               0.000000\n",
              "Is_Lead                 0.000000\n",
              "dtype: float64"
            ]
          },
          "metadata": {
            "tags": []
          },
          "execution_count": 10
        }
      ]
    },
    {
      "cell_type": "code",
      "metadata": {
        "colab": {
          "base_uri": "https://localhost:8080/"
        },
        "id": "ODQjo5aqFsaK",
        "outputId": "fa737ab7-cb92-4dd3-99b7-140897f5adff"
      },
      "source": [
        "train.nunique()"
      ],
      "execution_count": 11,
      "outputs": [
        {
          "output_type": "execute_result",
          "data": {
            "text/plain": [
              "ID                     245725\n",
              "Gender                      2\n",
              "Age                        63\n",
              "Region_Code                35\n",
              "Occupation                  4\n",
              "Channel_Code                4\n",
              "Vintage                    66\n",
              "Credit_Product              2\n",
              "Avg_Account_Balance    135292\n",
              "Is_Active                   2\n",
              "Is_Lead                     2\n",
              "dtype: int64"
            ]
          },
          "metadata": {
            "tags": []
          },
          "execution_count": 11
        }
      ]
    },
    {
      "cell_type": "code",
      "metadata": {
        "id": "80BfBmZEFsdX"
      },
      "source": [
        "categorical_columns=['Gender','Age','Region_Code','Occupation','Channel_Code','Vintage','Credit_Product','Is_Active']\n",
        "\n",
        "continuous_columns=['Avg_Account_Balance']\n",
        "\n",
        "Target=['Is_Lead']"
      ],
      "execution_count": 12,
      "outputs": []
    },
    {
      "cell_type": "code",
      "metadata": {
        "colab": {
          "base_uri": "https://localhost:8080/",
          "height": 295
        },
        "id": "fFjIZdDYFsgu",
        "outputId": "6a16e10a-fe04-47fe-8f7e-39b654a21078"
      },
      "source": [
        "train['Avg_Account_Balance'].hist()"
      ],
      "execution_count": 13,
      "outputs": [
        {
          "output_type": "execute_result",
          "data": {
            "text/plain": [
              "<matplotlib.axes._subplots.AxesSubplot at 0x7fd42a695cd0>"
            ]
          },
          "metadata": {
            "tags": []
          },
          "execution_count": 13
        },
        {
          "output_type": "display_data",
          "data": {
            "image/png": "[encoded data removed]",
            "text/plain": [
              "<Figure size 432x288 with 1 Axes>"
            ]
          },
          "metadata": {
            "tags": [],
            "needs_background": "light"
          }
        }
      ]
    },
    {
      "cell_type": "code",
      "metadata": {
        "colab": {
          "base_uri": "https://localhost:8080/",
          "height": 297
        },
        "id": "bBMxDkVsOGp-",
        "outputId": "2a890ea3-0c00-4c53-ed47-0f6e9976256f"
      },
      "source": [
        "sns.boxplot(x='Avg_Account_Balance',data=train)"
      ],
      "execution_count": 14,
      "outputs": [
        {
          "output_type": "execute_result",
          "data": {
            "text/plain": [
              "<matplotlib.axes._subplots.AxesSubplot at 0x7fd426482a50>"
            ]
          },
          "metadata": {
            "tags": []
          },
          "execution_count": 14
        },
        {
          "output_type": "display_data",
          "data": {
            "image/png": "[encoded data removed]",
            "text/plain": [
              "<Figure size 432x288 with 1 Axes>"
            ]
          },
          "metadata": {
            "tags": [],
            "needs_background": "light"
          }
        }
      ]
    },
    {
      "cell_type": "code",
      "metadata": {
        "id": "KzTt2PpaiQrL"
      },
      "source": [
        "##  2928901.0"
      ],
      "execution_count": null,
      "outputs": []
    },
    {
      "cell_type": "code",
      "metadata": {
        "id": "4-WK1IicPyi2"
      },
      "source": [
        "train['Avg_Account_Balance'][train['Avg_Account_Balance']>=2928901.0] = 2928901.0"
      ],
      "execution_count": 15,
      "outputs": []
    },
    {
      "cell_type": "code",
      "metadata": {
        "colab": {
          "base_uri": "https://localhost:8080/",
          "height": 320
        },
        "id": "ZPuKiEf1V1oH",
        "outputId": "e34413d9-c68e-4748-c7f7-7df7bbe4cd51"
      },
      "source": [
        "train.boxplot(column='Avg_Account_Balance', by='Is_Lead', figsize=(10,4), vert=True)"
      ],
      "execution_count": 16,
      "outputs": [
        {
          "output_type": "execute_result",
          "data": {
            "text/plain": [
              "<matplotlib.axes._subplots.AxesSubplot at 0x7fd426478090>"
            ]
          },
          "metadata": {
            "tags": []
          },
          "execution_count": 16
        },
        {
          "output_type": "display_data",
          "data": {
            "image/png": "[encoded data removed]",
            "text/plain": [
              "<Figure size 720x288 with 1 Axes>"
            ]
          },
          "metadata": {
            "tags": [],
            "needs_background": "light"
          }
        }
      ]
    },
    {
      "cell_type": "code",
      "metadata": {
        "colab": {
          "base_uri": "https://localhost:8080/"
        },
        "id": "e_viKP_AFskX",
        "outputId": "3407b9bc-213d-4059-8755-aac52547a73d"
      },
      "source": [
        "train['Avg_Account_Balance'].describe()"
      ],
      "execution_count": 17,
      "outputs": [
        {
          "output_type": "execute_result",
          "data": {
            "text/plain": [
              "count    2.457250e+05\n",
              "mean     1.081184e+06\n",
              "std      6.593450e+05\n",
              "min      2.079000e+04\n",
              "25%      6.043100e+05\n",
              "50%      8.946010e+05\n",
              "75%      1.366666e+06\n",
              "max      2.928901e+06\n",
              "Name: Avg_Account_Balance, dtype: float64"
            ]
          },
          "metadata": {
            "tags": []
          },
          "execution_count": 17
        }
      ]
    },
    {
      "cell_type": "code",
      "metadata": {
        "id": "w1XHZxESSBAn"
      },
      "source": [
        "train['Credit_Product']=train['Credit_Product'].fillna('Yes')\n",
        "test['Credit_Product']=test['Credit_Product'].fillna('Yes')"
      ],
      "execution_count": 18,
      "outputs": []
    },
    {
      "cell_type": "code",
      "metadata": {
        "id": "hUI4hOFXhsoF"
      },
      "source": [
        "##########################"
      ],
      "execution_count": null,
      "outputs": []
    },
    {
      "cell_type": "code",
      "metadata": {
        "id": "qRyictG_oa8Y"
      },
      "source": [
        "df=train.append(test)"
      ],
      "execution_count": 19,
      "outputs": []
    },
    {
      "cell_type": "code",
      "metadata": {
        "colab": {
          "base_uri": "https://localhost:8080/",
          "height": 202
        },
        "id": "QClSy3IaSBWu",
        "outputId": "68c15daf-6b7e-4b79-c47a-8a9a6d08b279"
      },
      "source": [
        "df.head()"
      ],
      "execution_count": 20,
      "outputs": [
        {
          "output_type": "execute_result",
          "data": {
            "text/html": [
              "<div>\n",
              "<style scoped>\n",
              "    .dataframe tbody tr th:only-of-type {\n",
              "        vertical-align: middle;\n",
              "    }\n",
              "\n",
              "    .dataframe tbody tr th {\n",
              "        vertical-align: top;\n",
              "    }\n",
              "\n",
              "    .dataframe thead th {\n",
              "        text-align: right;\n",
              "    }\n",
              "</style>\n",
              "<table border=\"1\" class=\"dataframe\">\n",
              "  <thead>\n",
              "    <tr style=\"text-align: right;\">\n",
              "      <th></th>\n",
              "      <th>ID</th>\n",
              "      <th>Gender</th>\n",
              "      <th>Age</th>\n",
              "      <th>Region_Code</th>\n",
              "      <th>Occupation</th>\n",
              "      <th>Channel_Code</th>\n",
              "      <th>Vintage</th>\n",
              "      <th>Credit_Product</th>\n",
              "      <th>Avg_Account_Balance</th>\n",
              "      <th>Is_Active</th>\n",
              "      <th>Is_Lead</th>\n",
              "    </tr>\n",
              "  </thead>\n",
              "  <tbody>\n",
              "    <tr>\n",
              "      <th>0</th>\n",
              "      <td>NNVBBKZB</td>\n",
              "      <td>Female</td>\n",
              "      <td>73</td>\n",
              "      <td>RG268</td>\n",
              "      <td>Other</td>\n",
              "      <td>X3</td>\n",
              "      <td>43</td>\n",
              "      <td>No</td>\n",
              "      <td>1045696</td>\n",
              "      <td>No</td>\n",
              "      <td>0.0</td>\n",
              "    </tr>\n",
              "    <tr>\n",
              "      <th>1</th>\n",
              "      <td>IDD62UNG</td>\n",
              "      <td>Female</td>\n",
              "      <td>30</td>\n",
              "      <td>RG277</td>\n",
              "      <td>Salaried</td>\n",
              "      <td>X1</td>\n",
              "      <td>32</td>\n",
              "      <td>No</td>\n",
              "      <td>581988</td>\n",
              "      <td>No</td>\n",
              "      <td>0.0</td>\n",
              "    </tr>\n",
              "    <tr>\n",
              "      <th>2</th>\n",
              "      <td>HD3DSEMC</td>\n",
              "      <td>Female</td>\n",
              "      <td>56</td>\n",
              "      <td>RG268</td>\n",
              "      <td>Self_Employed</td>\n",
              "      <td>X3</td>\n",
              "      <td>26</td>\n",
              "      <td>No</td>\n",
              "      <td>1484315</td>\n",
              "      <td>Yes</td>\n",
              "      <td>0.0</td>\n",
              "    </tr>\n",
              "    <tr>\n",
              "      <th>3</th>\n",
              "      <td>BF3NC7KV</td>\n",
              "      <td>Male</td>\n",
              "      <td>34</td>\n",
              "      <td>RG270</td>\n",
              "      <td>Salaried</td>\n",
              "      <td>X1</td>\n",
              "      <td>19</td>\n",
              "      <td>No</td>\n",
              "      <td>470454</td>\n",
              "      <td>No</td>\n",
              "      <td>0.0</td>\n",
              "    </tr>\n",
              "    <tr>\n",
              "      <th>4</th>\n",
              "      <td>TEASRWXV</td>\n",
              "      <td>Female</td>\n",
              "      <td>30</td>\n",
              "      <td>RG282</td>\n",
              "      <td>Salaried</td>\n",
              "      <td>X1</td>\n",
              "      <td>33</td>\n",
              "      <td>No</td>\n",
              "      <td>886787</td>\n",
              "      <td>No</td>\n",
              "      <td>0.0</td>\n",
              "    </tr>\n",
              "  </tbody>\n",
              "</table>\n",
              "</div>"
            ],
            "text/plain": [
              "         ID  Gender  Age  ... Avg_Account_Balance Is_Active Is_Lead\n",
              "0  NNVBBKZB  Female   73  ...             1045696        No     0.0\n",
              "1  IDD62UNG  Female   30  ...              581988        No     0.0\n",
              "2  HD3DSEMC  Female   56  ...             1484315       Yes     0.0\n",
              "3  BF3NC7KV    Male   34  ...              470454        No     0.0\n",
              "4  TEASRWXV  Female   30  ...              886787        No     0.0\n",
              "\n",
              "[5 rows x 11 columns]"
            ]
          },
          "metadata": {
            "tags": []
          },
          "execution_count": 20
        }
      ]
    },
    {
      "cell_type": "code",
      "metadata": {
        "colab": {
          "base_uri": "https://localhost:8080/"
        },
        "id": "AkyUgiBjoU-Y",
        "outputId": "c94ba450-66ac-4c0b-a471-3efc87baf22b"
      },
      "source": [
        "train.shape , test.shape"
      ],
      "execution_count": 21,
      "outputs": [
        {
          "output_type": "execute_result",
          "data": {
            "text/plain": [
              "((245725, 11), (105312, 10))"
            ]
          },
          "metadata": {
            "tags": []
          },
          "execution_count": 21
        }
      ]
    },
    {
      "cell_type": "code",
      "metadata": {
        "id": "qZEfb_y1mxUm"
      },
      "source": [
        "from sklearn.preprocessing import LabelEncoder\n",
        "Le=LabelEncoder()\n",
        "df['Region_Code']=Le.fit_transform(df['Region_Code'])\n"
      ],
      "execution_count": 22,
      "outputs": []
    },
    {
      "cell_type": "code",
      "metadata": {
        "id": "bz2EfgUAuXT5"
      },
      "source": [
        "Gen_map={'Female':1,'Male':2}\n",
        "ocup_map={'Other':1,'Salaried':2,'Self_Employed':3,'Entrepreneur':4}\n",
        "channel_map={'X3':3,'X1':1,'X2':2,'X4':4}\n",
        "credit_map={'No':1,'Yes':2}\n",
        "Is_Active_map={'No':1,'Yes':2}\n",
        "\n",
        "\n",
        "df['Gender']=df['Gender'].map(Gen_map)\n",
        "df['Occupation']=df['Occupation'].map(ocup_map)\n",
        "df['Channel_Code']=df['Channel_Code'].map(channel_map)\n",
        "df['Credit_Product']=df['Credit_Product'].map(credit_map)\n",
        "df['Is_Active']=df['Is_Active'].map(Is_Active_map)\n"
      ],
      "execution_count": 23,
      "outputs": []
    },
    {
      "cell_type": "code",
      "metadata": {
        "id": "oITSRK7bqgiT"
      },
      "source": [
        "train_df=df[:245725]\n",
        "test_df=df[245725:]\n"
      ],
      "execution_count": 24,
      "outputs": []
    },
    {
      "cell_type": "code",
      "metadata": {
        "id": "vuCpBSMDqglC"
      },
      "source": [
        "train_df=train_df.drop(labels='ID', axis=1)\n",
        "test_df=test_df.drop(labels='Is_Lead', axis=1)"
      ],
      "execution_count": 25,
      "outputs": []
    },
    {
      "cell_type": "code",
      "metadata": {
        "id": "NLEy0tdepIhH"
      },
      "source": [
        "####################################################"
      ],
      "execution_count": null,
      "outputs": []
    },
    {
      "cell_type": "code",
      "metadata": {
        "colab": {
          "base_uri": "https://localhost:8080/"
        },
        "id": "GHwdY3AUpI8o",
        "outputId": "0d64c767-1178-4082-a304-74726bc1a07f"
      },
      "source": [
        "train_df.columns"
      ],
      "execution_count": 26,
      "outputs": [
        {
          "output_type": "execute_result",
          "data": {
            "text/plain": [
              "Index(['Gender', 'Age', 'Region_Code', 'Occupation', 'Channel_Code', 'Vintage',\n",
              "       'Credit_Product', 'Avg_Account_Balance', 'Is_Active', 'Is_Lead'],\n",
              "      dtype='object')"
            ]
          },
          "metadata": {
            "tags": []
          },
          "execution_count": 26
        }
      ]
    },
    {
      "cell_type": "code",
      "metadata": {
        "id": "UIrpJl1ctKf0"
      },
      "source": [
        "predictors=['Gender', 'Age', 'Region_Code', 'Occupation', 'Channel_Code', 'Vintage',\n",
        "       'Credit_Product', 'Avg_Account_Balance', 'Is_Active']\n",
        "\n",
        "\n",
        "target=['Is_Lead']   \n",
        "\n",
        "\n",
        "\n",
        "X=train_df[predictors].values\n",
        "y=train_df[target].values\n"
      ],
      "execution_count": 28,
      "outputs": []
    },
    {
      "cell_type": "code",
      "metadata": {
        "id": "9CwTJSvXdpqQ"
      },
      "source": [
        "Test_X=test_df[predictors].values"
      ],
      "execution_count": 29,
      "outputs": []
    },
    {
      "cell_type": "code",
      "metadata": {
        "id": "W-B4OMxKc-Cm"
      },
      "source": [
        "\n",
        "from sklearn.metrics import roc_auc_score\n",
        "from sklearn.model_selection import train_test_split"
      ],
      "execution_count": 30,
      "outputs": []
    },
    {
      "cell_type": "code",
      "metadata": {
        "id": "b8b_H6gYf-gW"
      },
      "source": [
        "from sklearn.model_selection import train_test_split\n",
        "from sklearn.preprocessing import MinMaxScaler,StandardScaler\n",
        "from sklearn.metrics import f1_score,classification_report,confusion_matrix,roc_auc_score,accuracy_score,auc\n",
        "from sklearn.model_selection import train_test_split\n",
        "from sklearn.svm import SVC\n",
        "from sklearn.model_selection import RepeatedStratifiedKFold,StratifiedKFold\n",
        "from sklearn.neighbors import KNeighborsClassifier\n",
        "from sklearn.ensemble import RandomForestClassifier\n",
        "from sklearn.tree import DecisionTreeClassifier\n",
        "from xgboost.sklearn import XGBClassifier\n",
        "import lightgbm as lgb\n",
        "from sklearn.inspection import permutation_importance\n",
        "from sklearn.naive_bayes import GaussianNB\n",
        "from sklearn.linear_model import LogisticRegression\n",
        "from sklearn.ensemble import GradientBoostingClassifier\n",
        "from catboost import CatBoostClassifier \n"
      ],
      "execution_count": 33,
      "outputs": []
    },
    {
      "cell_type": "code",
      "metadata": {
        "colab": {
          "base_uri": "https://localhost:8080/"
        },
        "id": "iyucf7u3fycL",
        "outputId": "ff659012-e112-4ab2-aee1-cf96a87eb9a3"
      },
      "source": [
        "from sklearn.model_selection import StratifiedKFold\n",
        "kf=StratifiedKFold(n_splits=3, shuffle=True)\n",
        "for train_index, test_index in kf.split(X,y):\n",
        "    X_train, X_test = X[train_index], X[test_index]\n",
        "    y_train, y_test = y[train_index], y[test_index]\n",
        "    nb=CatBoostClassifier(verbose=False,iterations=125,learning_rate=0.000001,depth=12,custom_metric='AUC',l2_leaf_reg=5.0,\n",
        "                           bootstrap_type='Bayesian',bagging_temperature=0.5,sampling_frequency='PerTreeLevel',grow_policy='Depthwise',\n",
        "                           leaf_estimation_method='Gradient',model_shrink_mode='Constant',class_weights=[0.6,5])\n",
        "    search=nb.fit(X_train,y_train)\n",
        "    pred_test=search.predict(X_test)\n",
        "    pred_train=search.predict(X_train)\n",
        "    ROC_Auc_score_train=roc_auc_score(y_train,pred_train)\n",
        "    print(\"The ROC_Auc_score on Train\",ROC_Auc_score_train)\n",
        "    ROC_Auc_score_test=roc_auc_score(y_test,pred_test)\n",
        "    print(\"The ROC_Auc_score on Test\",ROC_Auc_score_test)\n",
        "    print(\"The confusion Matrix\",confusion_matrix(y_test,pred_test))\n",
        "    print('*'*50)\n",
        "pred_cat=search.predict_proba(Test_X)[:,1] "
      ],
      "execution_count": 34,
      "outputs": [
        {
          "output_type": "stream",
          "text": [
            "The ROC_Auc_score on Train 0.7626911368350808\n",
            "The ROC_Auc_score on Test 0.7612564763603082\n",
            "The confusion Matrix [[39804 22675]\n",
            " [ 2226 17204]]\n",
            "**************************************************\n",
            "The ROC_Auc_score on Train 0.7634577794890929\n",
            "The ROC_Auc_score on Test 0.760693670174419\n",
            "The confusion Matrix [[39644 22835]\n",
            " [ 2198 17231]]\n",
            "**************************************************\n",
            "The ROC_Auc_score on Train 0.7624077773407296\n",
            "The ROC_Auc_score on Test 0.7616726256925924\n",
            "The confusion Matrix [[39985 22494]\n",
            " [ 2266 17163]]\n",
            "**************************************************\n"
          ],
          "name": "stdout"
        }
      ]
    },
    {
      "cell_type": "code",
      "metadata": {
        "id": "EIlDazVsBS7e"
      },
      "source": [
        "import pickle\n",
        "\n",
        "pkl_filename = \"cat_model.pkl\"\n",
        "with open(pkl_filename, 'wb') as file:\n",
        "    pickle.dump(search, file)"
      ],
      "execution_count": 35,
      "outputs": []
    },
    {
      "cell_type": "code",
      "metadata": {
        "id": "zepn7DGRBS-U"
      },
      "source": [
        ""
      ],
      "execution_count": null,
      "outputs": []
    },
    {
      "cell_type": "code",
      "metadata": {
        "id": "gYmqPYsXBTB6"
      },
      "source": [
        ""
      ],
      "execution_count": null,
      "outputs": []
    }
  ]
}